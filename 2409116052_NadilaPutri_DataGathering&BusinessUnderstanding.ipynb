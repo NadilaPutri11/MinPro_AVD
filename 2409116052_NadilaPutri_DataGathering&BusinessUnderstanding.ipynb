{
  "nbformat": 4,
  "nbformat_minor": 0,
  "metadata": {
    "colab": {
      "provenance": []
    },
    "kernelspec": {
      "name": "python3",
      "display_name": "Python 3"
    },
    "language_info": {
      "name": "python"
    }
  },
  "cells": [
    {
      "cell_type": "code",
      "source": [],
      "metadata": {
        "id": "MLaelYqiR7BR"
      },
      "execution_count": null,
      "outputs": []
    },
    {
      "cell_type": "markdown",
      "source": [
        "## Data Gathering & Business Understanding"
      ],
      "metadata": {
        "id": "8Juz79OlQY3r"
      }
    },
    {
      "cell_type": "markdown",
      "source": [
        "# Business Objective"
      ],
      "metadata": {
        "id": "nWeSenpkRa1x"
      }
    },
    {
      "cell_type": "markdown",
      "source": [
        "Tujuan utama proyek ini adalah untuk memahami dinamika pasar produk *fitness tracker* di India guna mendukung strategi bisnis yang lebih efektif, termasuk penentuan harga, fitur yang diminati, serta strategi pemasaran yang lebih baik. Hal ini meliputi analisis faktor-faktor yang mempengaruhi harga *fitness tracker*, preferensi pelanggan dan perilaku belanja untuk memandu pengembangan produk yang sesuai dengan kebutuhan pasar dan meningkatkan kepuasan pelanggan. Selain itu, tujuan ini juga mencakup evaluasi efektivitas strategi diskon dan tren pemasaran yang lebih tepat sasaran melalui strategi yang didukung oleh analisis data yang mendalam."
      ],
      "metadata": {
        "id": "oRwLKSuGR_yp"
      }
    },
    {
      "cell_type": "markdown",
      "source": [
        "# Assess Situation"
      ],
      "metadata": {
        "id": "4VD_Da8MSGEh"
      }
    },
    {
      "cell_type": "markdown",
      "source": [
        "Situasi bisnis yang mendasari analisis ini adalah berkembangnya pasar *fitness tracker* di India karena meningkatnya kesadaran masyarakat terhadap kesehatan dan kebugaran. Pertumbuhan yang cepat dalam perangkat *wearable* di India juga diiringi persaingan yang ketat antara berbagai merek dengan harga dan spesifikasi beragam menjadi faktor keputusan pembelian pelanggan. Sehingga rating dari pelanggan dapat memeberikan wawasan mengenai tren pasar dan tingkat kepuasan pelanggan. Oleh karena itu, analisis segmentasi pelanggan menjadi krusial untuk mengidentifikasi peluang dan tantangan dalam menghadapi tren pasar yang berkembang."
      ],
      "metadata": {
        "id": "Rkvk_IBGSv1f"
      }
    },
    {
      "cell_type": "markdown",
      "source": [
        "# Data Mining Goals"
      ],
      "metadata": {
        "id": "KncULRkVSBug"
      }
    },
    {
      "cell_type": "markdown",
      "source": [
        "Mengidentifikasi segmen jenis *fitness tracker* yang diminati pelanggan yang memiliki potensi untuk mendorong inovasi dan pertumbuhan berkelanjutan. Analisis dilakukan dengan mengamati pola pembelian dari data transaksi berbagai jenis fitness tracker, serta menjelajahi hubungan yang ada antara harga, spesifikasi produk, rating pelanggan dll untuk mendapatkan pemahaman mendalam yang berguna dalam pengembangan produk dan strategi pemasaran yang lebih tepat sasaran.\n"
      ],
      "metadata": {
        "id": "m9Osw8KBSw3n"
      }
    },
    {
      "cell_type": "markdown",
      "source": [
        "# Project Plan"
      ],
      "metadata": {
        "id": "QjGB281_Sj_n"
      }
    },
    {
      "cell_type": "markdown",
      "source": [
        "Proyek ini akan dimulai dengan pengolahan dan eksplorasi data awal untuk memeriksa kualitas data, menangani nilai yang hilang, serta memahami distribusi variabel utama seperti harga, tipe perangkat, dan rating. Selanjutnya, eksplorasi lebih lanjut akan dilakukan untuk mengidentifikasi merek dan model paling populer serta menganalisis hubungan antara harga dan spesifikasi produk.\n",
        "\n",
        "Selanjutnya, menganalisis segmentasi guna mengelompokkan produk berdasarkan karakteristik spesifik, seperti tipe display dan daya tahan baterai, agar dapat memahami preferensi pelanggan dalam memilih produk. Selain itu, analisis korelasi antara harga dan rating pelanggan akan dilakukan untuk mengevaluasi bagaimana fitur dan harga memengaruhi kepuasan pengguna.\n",
        "\n",
        "Hasil dari analisis ini akan digunakan untuk menyusun rekomendasi berbasis data bagi produsen dan penjual dalam merancang strategi pemasaran, penetapan harga, serta inovasi produk guna meningkatkan daya saing di pasar *fitness tracker*."
      ],
      "metadata": {
        "id": "6cKxv4g0TbHV"
      }
    }
  ]
}